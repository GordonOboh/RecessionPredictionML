{
 "cells": [
  {
   "cell_type": "code",
   "execution_count": 4,
   "id": "691f24d5",
   "metadata": {},
   "outputs": [
    {
     "data": {
      "text/plain": [
       "False"
      ]
     },
     "execution_count": 4,
     "metadata": {},
     "output_type": "execute_result"
    }
   ],
   "source": [
    "import os\n",
    "import sys\n",
    "import pandas as pd\n",
    "import numpy as np\n",
    "\n",
    "# For notebooks — get the current working directory\n",
    "notebook_dir = os.getcwd()\n",
    "project_dir = os.path.abspath(os.path.join(notebook_dir, '..'))\n",
    "sys.path.append(project_dir)\n",
    "\n",
    "# Then import your module\n",
    "import Utils.functions as data_viz\n",
    "import Utils.file_io as file_io\n",
    "\n",
    "from dotenv import load_dotenv\n",
    "load_dotenv()"
   ]
  },
  {
   "cell_type": "code",
   "execution_count": 5,
   "id": "188fdefe",
   "metadata": {},
   "outputs": [
    {
     "name": "stdout",
     "output_type": "stream",
     "text": [
      "/workspaces/RecessionPredictionML\n",
      "/workspaces/RecessionPredictionML/Notebooks/Dataset/data_raw\n"
     ]
    }
   ],
   "source": [
    "print(project_dir)\n",
    "print(f\"{project_dir}/Notebooks/Dataset/data_raw\")"
   ]
  },
  {
   "cell_type": "code",
   "execution_count": 6,
   "id": "4c39bdd6",
   "metadata": {},
   "outputs": [
    {
     "name": "stdout",
     "output_type": "stream",
     "text": [
      "DataFrame loaded from /workspaces/RecessionPredictionML/Notebooks/Dataset/data_raw.csv\n"
     ]
    },
    {
     "data": {
      "text/html": [
       "<div>\n",
       "<style scoped>\n",
       "    .dataframe tbody tr th:only-of-type {\n",
       "        vertical-align: middle;\n",
       "    }\n",
       "\n",
       "    .dataframe tbody tr th {\n",
       "        vertical-align: top;\n",
       "    }\n",
       "\n",
       "    .dataframe thead th {\n",
       "        text-align: right;\n",
       "    }\n",
       "</style>\n",
       "<table border=\"1\" class=\"dataframe\">\n",
       "  <thead>\n",
       "    <tr style=\"text-align: right;\">\n",
       "      <th></th>\n",
       "      <th>GS10</th>\n",
       "      <th>DGS2</th>\n",
       "      <th>DGS3MO</th>\n",
       "    </tr>\n",
       "  </thead>\n",
       "  <tbody>\n",
       "    <tr>\n",
       "      <th>1953-04-01</th>\n",
       "      <td>2.83</td>\n",
       "      <td>NaN</td>\n",
       "      <td>NaN</td>\n",
       "    </tr>\n",
       "    <tr>\n",
       "      <th>1953-05-01</th>\n",
       "      <td>3.05</td>\n",
       "      <td>NaN</td>\n",
       "      <td>NaN</td>\n",
       "    </tr>\n",
       "    <tr>\n",
       "      <th>1953-06-01</th>\n",
       "      <td>3.11</td>\n",
       "      <td>NaN</td>\n",
       "      <td>NaN</td>\n",
       "    </tr>\n",
       "    <tr>\n",
       "      <th>1953-07-01</th>\n",
       "      <td>2.93</td>\n",
       "      <td>NaN</td>\n",
       "      <td>NaN</td>\n",
       "    </tr>\n",
       "    <tr>\n",
       "      <th>1953-08-01</th>\n",
       "      <td>2.95</td>\n",
       "      <td>NaN</td>\n",
       "      <td>NaN</td>\n",
       "    </tr>\n",
       "    <tr>\n",
       "      <th>...</th>\n",
       "      <td>...</td>\n",
       "      <td>...</td>\n",
       "      <td>...</td>\n",
       "    </tr>\n",
       "    <tr>\n",
       "      <th>2025-07-11</th>\n",
       "      <td>NaN</td>\n",
       "      <td>3.90</td>\n",
       "      <td>4.41</td>\n",
       "    </tr>\n",
       "    <tr>\n",
       "      <th>2025-07-14</th>\n",
       "      <td>NaN</td>\n",
       "      <td>3.90</td>\n",
       "      <td>4.42</td>\n",
       "    </tr>\n",
       "    <tr>\n",
       "      <th>2025-07-15</th>\n",
       "      <td>NaN</td>\n",
       "      <td>3.95</td>\n",
       "      <td>4.42</td>\n",
       "    </tr>\n",
       "    <tr>\n",
       "      <th>2025-07-16</th>\n",
       "      <td>NaN</td>\n",
       "      <td>3.88</td>\n",
       "      <td>4.41</td>\n",
       "    </tr>\n",
       "    <tr>\n",
       "      <th>2025-07-17</th>\n",
       "      <td>NaN</td>\n",
       "      <td>3.91</td>\n",
       "      <td>4.41</td>\n",
       "    </tr>\n",
       "  </tbody>\n",
       "</table>\n",
       "<p>13264 rows × 3 columns</p>\n",
       "</div>"
      ],
      "text/plain": [
       "            GS10  DGS2  DGS3MO\n",
       "1953-04-01  2.83   NaN     NaN\n",
       "1953-05-01  3.05   NaN     NaN\n",
       "1953-06-01  3.11   NaN     NaN\n",
       "1953-07-01  2.93   NaN     NaN\n",
       "1953-08-01  2.95   NaN     NaN\n",
       "...          ...   ...     ...\n",
       "2025-07-11   NaN  3.90    4.41\n",
       "2025-07-14   NaN  3.90    4.42\n",
       "2025-07-15   NaN  3.95    4.42\n",
       "2025-07-16   NaN  3.88    4.41\n",
       "2025-07-17   NaN  3.91    4.41\n",
       "\n",
       "[13264 rows x 3 columns]"
      ]
     },
     "execution_count": 6,
     "metadata": {},
     "output_type": "execute_result"
    }
   ],
   "source": [
    "file_io.input_csv(f\"{project_dir}/Notebooks/Dataset/data_raw\")"
   ]
  },
  {
   "cell_type": "code",
   "execution_count": 7,
   "id": "1b13bcc2",
   "metadata": {},
   "outputs": [],
   "source": [
    "import imblearn"
   ]
  },
  {
   "cell_type": "code",
   "execution_count": 4,
   "id": "1a495771",
   "metadata": {},
   "outputs": [
    {
     "name": "stdout",
     "output_type": "stream",
     "text": [
      "DataFrame loaded from /workspaces/RecessionPredictionML/Dataset/recession_periods.csv\n"
     ]
    }
   ],
   "source": [
    "import os\n",
    "import sys\n",
    "import pandas as pd\n",
    "from dotenv import load_dotenv\n",
    "load_dotenv()\n",
    "import Utils.file_io as file_io\n",
    "\n",
    "notebook_dir = os.getcwd()\n",
    "project_dir = os.path.abspath(os.path.join(notebook_dir, '..'))\n",
    "sys.path.append(project_dir)\n",
    "load_dotenv(dotenv_path=os.path.join(project_dir, \"api.env\"))\n",
    "df_list_of_recessions = pd.read_csv(f\"{project_dir}/Dataset/recession_periods.csv\")\n",
    "recessions = file_io.input_csv(f\"{project_dir}/Dataset/recession_periods\")"
   ]
  },
  {
   "cell_type": "code",
   "execution_count": 5,
   "id": "b5ae48d7",
   "metadata": {},
   "outputs": [
    {
     "name": "stdout",
     "output_type": "stream",
     "text": [
      "          start           end    color         recession_label\n",
      "0  '1980-01-01'  '1980-07-31'  #6BAED6             'Oil Shock'\n",
      "1  '1981-07-01'  '1982-11-30'  #9E9AC8         'Volcker Shock'\n",
      "2  '1990-07-01'  '1991-03-31'  #BC80BD       'Oil Price Spike'\n",
      "3  '2001-03-01'  '2001-11-30'  #FB8072  'Dot-com Bubble Burst'\n",
      "4  '2007-12-01'  '2009-06-30'  #BEBADA      'Housing Collapse'\n",
      "5  '2020-02-01'  '2020-04-30'  #80B1D3     'COVID-19 Pandemic'\n",
      "                     end    color         recession_label\n",
      "start                                                    \n",
      "1980-01-01  '1980-07-31'  #6BAED6             'Oil Shock'\n",
      "1981-07-01  '1982-11-30'  #9E9AC8         'Volcker Shock'\n",
      "1990-07-01  '1991-03-31'  #BC80BD       'Oil Price Spike'\n",
      "2001-03-01  '2001-11-30'  #FB8072  'Dot-com Bubble Burst'\n",
      "2007-12-01  '2009-06-30'  #BEBADA      'Housing Collapse'\n",
      "2020-02-01  '2020-04-30'  #80B1D3     'COVID-19 Pandemic'\n"
     ]
    }
   ],
   "source": [
    "print(df_list_of_recessions)\n",
    "print(recessions)"
   ]
  },
  {
   "cell_type": "code",
   "execution_count": 7,
   "id": "5bdbcf94",
   "metadata": {},
   "outputs": [
    {
     "name": "stdout",
     "output_type": "stream",
     "text": [
      "Index(['start', 'end', 'color', 'recession_label'], dtype='object')\n"
     ]
    }
   ],
   "source": [
    "print(df_list_of_recessions.keys())"
   ]
  }
 ],
 "metadata": {
  "kernelspec": {
   "display_name": "Python 3",
   "language": "python",
   "name": "python3"
  },
  "language_info": {
   "codemirror_mode": {
    "name": "ipython",
    "version": 3
   },
   "file_extension": ".py",
   "mimetype": "text/x-python",
   "name": "python",
   "nbconvert_exporter": "python",
   "pygments_lexer": "ipython3",
   "version": "3.12.1"
  }
 },
 "nbformat": 4,
 "nbformat_minor": 5
}
