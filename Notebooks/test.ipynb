{
 "cells": [
  {
   "cell_type": "code",
   "execution_count": 2,
   "id": "2ebf55bc",
   "metadata": {},
   "outputs": [
    {
     "name": "stdout",
     "output_type": "stream",
     "text": [
      "Requirement already satisfied: anyio==4.9.0 in /home/codespace/.local/lib/python3.12/site-packages (from -r ../requirements2.txt (line 1)) (4.9.0)\n",
      "Requirement already satisfied: argon2-cffi==25.1.0 in /home/codespace/.local/lib/python3.12/site-packages (from -r ../requirements2.txt (line 2)) (25.1.0)\n",
      "Requirement already satisfied: argon2-cffi-bindings==21.2.0 in /home/codespace/.local/lib/python3.12/site-packages (from -r ../requirements2.txt (line 3)) (21.2.0)\n",
      "Requirement already satisfied: arrow==1.3.0 in /home/codespace/.local/lib/python3.12/site-packages (from -r ../requirements2.txt (line 4)) (1.3.0)\n",
      "Requirement already satisfied: asttokens==3.0.0 in /home/codespace/.local/lib/python3.12/site-packages (from -r ../requirements2.txt (line 5)) (3.0.0)\n",
      "Requirement already satisfied: async-lru==2.0.5 in /home/codespace/.local/lib/python3.12/site-packages (from -r ../requirements2.txt (line 6)) (2.0.5)\n",
      "Requirement already satisfied: attrs==25.3.0 in /home/codespace/.local/lib/python3.12/site-packages (from -r ../requirements2.txt (line 7)) (25.3.0)\n",
      "Requirement already satisfied: babel==2.17.0 in /home/codespace/.local/lib/python3.12/site-packages (from -r ../requirements2.txt (line 8)) (2.17.0)\n",
      "Requirement already satisfied: beautifulsoup4==4.13.4 in /home/codespace/.local/lib/python3.12/site-packages (from -r ../requirements2.txt (line 9)) (4.13.4)\n",
      "Requirement already satisfied: bleach==6.2.0 in /home/codespace/.local/lib/python3.12/site-packages (from -r ../requirements2.txt (line 10)) (6.2.0)\n",
      "Requirement already satisfied: certifi==2025.7.9 in /home/codespace/.local/lib/python3.12/site-packages (from -r ../requirements2.txt (line 11)) (2025.7.9)\n",
      "Requirement already satisfied: cffi==1.17.1 in /home/codespace/.local/lib/python3.12/site-packages (from -r ../requirements2.txt (line 12)) (1.17.1)\n",
      "Requirement already satisfied: charset-normalizer==3.4.2 in /home/codespace/.local/lib/python3.12/site-packages (from -r ../requirements2.txt (line 13)) (3.4.2)\n",
      "Requirement already satisfied: colorama==0.4.6 in /home/codespace/.local/lib/python3.12/site-packages (from -r ../requirements2.txt (line 14)) (0.4.6)\n",
      "Requirement already satisfied: comm==0.2.2 in /home/codespace/.local/lib/python3.12/site-packages (from -r ../requirements2.txt (line 15)) (0.2.2)\n",
      "Requirement already satisfied: contourpy==1.3.2 in /home/codespace/.local/lib/python3.12/site-packages (from -r ../requirements2.txt (line 16)) (1.3.2)\n",
      "Requirement already satisfied: cycler==0.12.1 in /home/codespace/.local/lib/python3.12/site-packages (from -r ../requirements2.txt (line 17)) (0.12.1)\n",
      "Requirement already satisfied: debugpy==1.8.14 in /home/codespace/.local/lib/python3.12/site-packages (from -r ../requirements2.txt (line 18)) (1.8.14)\n",
      "Requirement already satisfied: decorator==5.2.1 in /home/codespace/.local/lib/python3.12/site-packages (from -r ../requirements2.txt (line 19)) (5.2.1)\n",
      "Requirement already satisfied: defusedxml==0.7.1 in /home/codespace/.local/lib/python3.12/site-packages (from -r ../requirements2.txt (line 20)) (0.7.1)\n",
      "Collecting dotenv==0.9.9 (from -r ../requirements2.txt (line 21))\n",
      "  Downloading dotenv-0.9.9-py2.py3-none-any.whl.metadata (279 bytes)\n",
      "Requirement already satisfied: executing==2.2.0 in /home/codespace/.local/lib/python3.12/site-packages (from -r ../requirements2.txt (line 22)) (2.2.0)\n",
      "Requirement already satisfied: fastjsonschema==2.21.1 in /home/codespace/.local/lib/python3.12/site-packages (from -r ../requirements2.txt (line 23)) (2.21.1)\n",
      "Requirement already satisfied: filelock==3.13.1 in /home/codespace/.local/lib/python3.12/site-packages (from -r ../requirements2.txt (line 24)) (3.13.1)\n",
      "Requirement already satisfied: fonttools==4.58.5 in /home/codespace/.local/lib/python3.12/site-packages (from -r ../requirements2.txt (line 25)) (4.58.5)\n",
      "Requirement already satisfied: fqdn==1.5.1 in /home/codespace/.local/lib/python3.12/site-packages (from -r ../requirements2.txt (line 26)) (1.5.1)\n",
      "Collecting fredapi==0.5.2 (from -r ../requirements2.txt (line 27))\n",
      "  Downloading fredapi-0.5.2-py3-none-any.whl.metadata (5.0 kB)\n",
      "Requirement already satisfied: fsspec==2024.6.1 in /home/codespace/.local/lib/python3.12/site-packages (from -r ../requirements2.txt (line 28)) (2024.6.1)\n",
      "Requirement already satisfied: gitdb==4.0.12 in /home/codespace/.local/lib/python3.12/site-packages (from -r ../requirements2.txt (line 29)) (4.0.12)\n",
      "Requirement already satisfied: GitPython==3.1.44 in /home/codespace/.local/lib/python3.12/site-packages (from -r ../requirements2.txt (line 30)) (3.1.44)\n",
      "Requirement already satisfied: h11==0.16.0 in /home/codespace/.local/lib/python3.12/site-packages (from -r ../requirements2.txt (line 31)) (0.16.0)\n",
      "Requirement already satisfied: httpcore==1.0.9 in /home/codespace/.local/lib/python3.12/site-packages (from -r ../requirements2.txt (line 32)) (1.0.9)\n",
      "Requirement already satisfied: httpx==0.28.1 in /home/codespace/.local/lib/python3.12/site-packages (from -r ../requirements2.txt (line 33)) (0.28.1)\n",
      "Requirement already satisfied: idna==3.10 in /home/codespace/.local/lib/python3.12/site-packages (from -r ../requirements2.txt (line 34)) (3.10)\n",
      "Collecting imbalanced-learn==0.13.0 (from -r ../requirements2.txt (line 35))\n",
      "  Downloading imbalanced_learn-0.13.0-py3-none-any.whl.metadata (8.8 kB)\n",
      "Requirement already satisfied: ipykernel==6.29.5 in /home/codespace/.local/lib/python3.12/site-packages (from -r ../requirements2.txt (line 36)) (6.29.5)\n",
      "Requirement already satisfied: ipython==9.4.0 in /home/codespace/.local/lib/python3.12/site-packages (from -r ../requirements2.txt (line 37)) (9.4.0)\n",
      "Requirement already satisfied: ipython_pygments_lexers==1.1.1 in /home/codespace/.local/lib/python3.12/site-packages (from -r ../requirements2.txt (line 38)) (1.1.1)\n",
      "Requirement already satisfied: isoduration==20.11.0 in /home/codespace/.local/lib/python3.12/site-packages (from -r ../requirements2.txt (line 39)) (20.11.0)\n",
      "Requirement already satisfied: jedi==0.19.2 in /home/codespace/.local/lib/python3.12/site-packages (from -r ../requirements2.txt (line 40)) (0.19.2)\n",
      "Requirement already satisfied: Jinja2==3.1.6 in /home/codespace/.local/lib/python3.12/site-packages (from -r ../requirements2.txt (line 41)) (3.1.6)\n",
      "Requirement already satisfied: joblib==1.5.1 in /home/codespace/.local/lib/python3.12/site-packages (from -r ../requirements2.txt (line 42)) (1.5.1)\n",
      "Requirement already satisfied: json5==0.12.0 in /home/codespace/.local/lib/python3.12/site-packages (from -r ../requirements2.txt (line 43)) (0.12.0)\n",
      "Requirement already satisfied: jsonpointer==3.0.0 in /home/codespace/.local/lib/python3.12/site-packages (from -r ../requirements2.txt (line 44)) (3.0.0)\n",
      "Requirement already satisfied: jsonschema==4.24.0 in /home/codespace/.local/lib/python3.12/site-packages (from -r ../requirements2.txt (line 45)) (4.24.0)\n",
      "Requirement already satisfied: jsonschema-specifications==2025.4.1 in /home/codespace/.local/lib/python3.12/site-packages (from -r ../requirements2.txt (line 46)) (2025.4.1)\n",
      "Requirement already satisfied: jupyter-events==0.12.0 in /home/codespace/.local/lib/python3.12/site-packages (from -r ../requirements2.txt (line 47)) (0.12.0)\n",
      "Requirement already satisfied: jupyter-lsp==2.2.5 in /home/codespace/.local/lib/python3.12/site-packages (from -r ../requirements2.txt (line 48)) (2.2.5)\n",
      "Requirement already satisfied: jupyter-server-mathjax==0.2.6 in /home/codespace/.local/lib/python3.12/site-packages (from -r ../requirements2.txt (line 49)) (0.2.6)\n",
      "Requirement already satisfied: jupyter_client==8.6.3 in /home/codespace/.local/lib/python3.12/site-packages (from -r ../requirements2.txt (line 50)) (8.6.3)\n",
      "Requirement already satisfied: jupyter_core==5.8.1 in /home/codespace/.local/lib/python3.12/site-packages (from -r ../requirements2.txt (line 51)) (5.8.1)\n",
      "Requirement already satisfied: jupyter_server==2.16.0 in /home/codespace/.local/lib/python3.12/site-packages (from -r ../requirements2.txt (line 52)) (2.16.0)\n",
      "Requirement already satisfied: jupyter_server_terminals==0.5.3 in /home/codespace/.local/lib/python3.12/site-packages (from -r ../requirements2.txt (line 53)) (0.5.3)\n",
      "Requirement already satisfied: jupyterlab==4.4.4 in /home/codespace/.local/lib/python3.12/site-packages (from -r ../requirements2.txt (line 54)) (4.4.4)\n",
      "Requirement already satisfied: jupyterlab_git==0.51.2 in /home/codespace/.local/lib/python3.12/site-packages (from -r ../requirements2.txt (line 55)) (0.51.2)\n",
      "Requirement already satisfied: jupyterlab_pygments==0.3.0 in /home/codespace/.local/lib/python3.12/site-packages (from -r ../requirements2.txt (line 56)) (0.3.0)\n",
      "Requirement already satisfied: jupyterlab_server==2.27.3 in /home/codespace/.local/lib/python3.12/site-packages (from -r ../requirements2.txt (line 57)) (2.27.3)\n",
      "Requirement already satisfied: kiwisolver==1.4.8 in /home/codespace/.local/lib/python3.12/site-packages (from -r ../requirements2.txt (line 58)) (1.4.8)\n",
      "Requirement already satisfied: MarkupSafe==3.0.2 in /home/codespace/.local/lib/python3.12/site-packages (from -r ../requirements2.txt (line 59)) (3.0.2)\n",
      "Requirement already satisfied: matplotlib==3.10.3 in /home/codespace/.local/lib/python3.12/site-packages (from -r ../requirements2.txt (line 60)) (3.10.3)\n",
      "Requirement already satisfied: matplotlib-inline==0.1.7 in /home/codespace/.local/lib/python3.12/site-packages (from -r ../requirements2.txt (line 61)) (0.1.7)\n",
      "Requirement already satisfied: mistune==3.1.3 in /home/codespace/.local/lib/python3.12/site-packages (from -r ../requirements2.txt (line 62)) (3.1.3)\n",
      "Requirement already satisfied: mpmath==1.3.0 in /home/codespace/.local/lib/python3.12/site-packages (from -r ../requirements2.txt (line 63)) (1.3.0)\n",
      "Requirement already satisfied: narwhals==1.46.0 in /home/codespace/.local/lib/python3.12/site-packages (from -r ../requirements2.txt (line 64)) (1.46.0)\n",
      "Requirement already satisfied: nbclient==0.10.2 in /home/codespace/.local/lib/python3.12/site-packages (from -r ../requirements2.txt (line 65)) (0.10.2)\n",
      "Requirement already satisfied: nbconvert==7.16.6 in /home/codespace/.local/lib/python3.12/site-packages (from -r ../requirements2.txt (line 66)) (7.16.6)\n",
      "Requirement already satisfied: nbdime==4.0.2 in /home/codespace/.local/lib/python3.12/site-packages (from -r ../requirements2.txt (line 67)) (4.0.2)\n",
      "Requirement already satisfied: nbformat==5.10.4 in /home/codespace/.local/lib/python3.12/site-packages (from -r ../requirements2.txt (line 68)) (5.10.4)\n",
      "Requirement already satisfied: nest-asyncio==1.6.0 in /home/codespace/.local/lib/python3.12/site-packages (from -r ../requirements2.txt (line 69)) (1.6.0)\n",
      "Requirement already satisfied: networkx==3.3 in /home/codespace/.local/lib/python3.12/site-packages (from -r ../requirements2.txt (line 70)) (3.3)\n",
      "Requirement already satisfied: notebook_shim==0.2.4 in /home/codespace/.local/lib/python3.12/site-packages (from -r ../requirements2.txt (line 71)) (0.2.4)\n",
      "Requirement already satisfied: numpy==2.3.1 in /home/codespace/.local/lib/python3.12/site-packages (from -r ../requirements2.txt (line 72)) (2.3.1)\n",
      "Collecting nvidia-nccl-cu12==2.27.6 (from -r ../requirements2.txt (line 73))\n",
      "  Downloading nvidia_nccl_cu12-2.27.6-py3-none-manylinux2014_x86_64.manylinux_2_17_x86_64.whl.metadata (2.0 kB)\n",
      "Requirement already satisfied: overrides==7.7.0 in /home/codespace/.local/lib/python3.12/site-packages (from -r ../requirements2.txt (line 74)) (7.7.0)\n",
      "Requirement already satisfied: packaging==25.0 in /home/codespace/.local/lib/python3.12/site-packages (from -r ../requirements2.txt (line 75)) (25.0)\n",
      "Requirement already satisfied: pandas==2.3.1 in /home/codespace/.local/lib/python3.12/site-packages (from -r ../requirements2.txt (line 76)) (2.3.1)\n",
      "Requirement already satisfied: pandocfilters==1.5.1 in /home/codespace/.local/lib/python3.12/site-packages (from -r ../requirements2.txt (line 77)) (1.5.1)\n",
      "Requirement already satisfied: parso==0.8.4 in /home/codespace/.local/lib/python3.12/site-packages (from -r ../requirements2.txt (line 78)) (0.8.4)\n",
      "Requirement already satisfied: pexpect==4.9.0 in /home/codespace/.local/lib/python3.12/site-packages (from -r ../requirements2.txt (line 79)) (4.9.0)\n",
      "Requirement already satisfied: pillow==11.3.0 in /home/codespace/.local/lib/python3.12/site-packages (from -r ../requirements2.txt (line 80)) (11.3.0)\n",
      "Requirement already satisfied: platformdirs==4.3.8 in /home/codespace/.local/lib/python3.12/site-packages (from -r ../requirements2.txt (line 81)) (4.3.8)\n",
      "Requirement already satisfied: plotly==6.2.0 in /home/codespace/.local/lib/python3.12/site-packages (from -r ../requirements2.txt (line 82)) (6.2.0)\n",
      "Requirement already satisfied: prometheus_client==0.22.1 in /home/codespace/.local/lib/python3.12/site-packages (from -r ../requirements2.txt (line 83)) (0.22.1)\n",
      "Requirement already satisfied: prompt_toolkit==3.0.51 in /home/codespace/.local/lib/python3.12/site-packages (from -r ../requirements2.txt (line 84)) (3.0.51)\n",
      "Requirement already satisfied: psutil==7.0.0 in /home/codespace/.local/lib/python3.12/site-packages (from -r ../requirements2.txt (line 85)) (7.0.0)\n",
      "Requirement already satisfied: ptyprocess==0.7.0 in /home/codespace/.local/lib/python3.12/site-packages (from -r ../requirements2.txt (line 86)) (0.7.0)\n",
      "Requirement already satisfied: pure_eval==0.2.3 in /home/codespace/.local/lib/python3.12/site-packages (from -r ../requirements2.txt (line 87)) (0.2.3)\n",
      "Requirement already satisfied: pycparser==2.22 in /home/codespace/.local/lib/python3.12/site-packages (from -r ../requirements2.txt (line 88)) (2.22)\n",
      "Requirement already satisfied: Pygments==2.19.2 in /home/codespace/.local/lib/python3.12/site-packages (from -r ../requirements2.txt (line 89)) (2.19.2)\n",
      "Requirement already satisfied: pyparsing==3.2.3 in /home/codespace/.local/lib/python3.12/site-packages (from -r ../requirements2.txt (line 90)) (3.2.3)\n",
      "Requirement already satisfied: python-dateutil==2.9.0.post0 in /home/codespace/.local/lib/python3.12/site-packages (from -r ../requirements2.txt (line 91)) (2.9.0.post0)\n",
      "Collecting python-dotenv==1.1.1 (from -r ../requirements2.txt (line 92))\n",
      "  Downloading python_dotenv-1.1.1-py3-none-any.whl.metadata (24 kB)\n",
      "Requirement already satisfied: python-json-logger==3.3.0 in /home/codespace/.local/lib/python3.12/site-packages (from -r ../requirements2.txt (line 93)) (3.3.0)\n",
      "Requirement already satisfied: pytz==2025.2 in /home/codespace/.local/lib/python3.12/site-packages (from -r ../requirements2.txt (line 94)) (2025.2)\n",
      "Requirement already satisfied: PyYAML==6.0.2 in /home/codespace/.local/lib/python3.12/site-packages (from -r ../requirements2.txt (line 95)) (6.0.2)\n",
      "Requirement already satisfied: pyzmq==27.0.0 in /home/codespace/.local/lib/python3.12/site-packages (from -r ../requirements2.txt (line 96)) (27.0.0)\n",
      "Requirement already satisfied: referencing==0.36.2 in /home/codespace/.local/lib/python3.12/site-packages (from -r ../requirements2.txt (line 97)) (0.36.2)\n",
      "Requirement already satisfied: requests==2.32.4 in /home/codespace/.local/lib/python3.12/site-packages (from -r ../requirements2.txt (line 98)) (2.32.4)\n",
      "Requirement already satisfied: rfc3339-validator==0.1.4 in /home/codespace/.local/lib/python3.12/site-packages (from -r ../requirements2.txt (line 99)) (0.1.4)\n",
      "Requirement already satisfied: rfc3986-validator==0.1.1 in /home/codespace/.local/lib/python3.12/site-packages (from -r ../requirements2.txt (line 100)) (0.1.1)\n",
      "Requirement already satisfied: rpds-py==0.26.0 in /home/codespace/.local/lib/python3.12/site-packages (from -r ../requirements2.txt (line 101)) (0.26.0)\n",
      "Collecting scikit-learn==1.6.1 (from -r ../requirements2.txt (line 102))\n",
      "  Downloading scikit_learn-1.6.1-cp312-cp312-manylinux_2_17_x86_64.manylinux2014_x86_64.whl.metadata (18 kB)\n",
      "Requirement already satisfied: scipy==1.16.0 in /home/codespace/.local/lib/python3.12/site-packages (from -r ../requirements2.txt (line 103)) (1.16.0)\n",
      "Requirement already satisfied: seaborn==0.13.2 in /home/codespace/.local/lib/python3.12/site-packages (from -r ../requirements2.txt (line 104)) (0.13.2)\n",
      "Requirement already satisfied: Send2Trash==1.8.3 in /home/codespace/.local/lib/python3.12/site-packages (from -r ../requirements2.txt (line 105)) (1.8.3)\n",
      "Requirement already satisfied: setuptools==80.9.0 in /home/codespace/.local/lib/python3.12/site-packages (from -r ../requirements2.txt (line 106)) (80.9.0)\n",
      "Requirement already satisfied: six==1.17.0 in /home/codespace/.local/lib/python3.12/site-packages (from -r ../requirements2.txt (line 107)) (1.17.0)\n",
      "Collecting sklearn-compat==0.1.3 (from -r ../requirements2.txt (line 108))\n",
      "  Downloading sklearn_compat-0.1.3-py3-none-any.whl.metadata (18 kB)\n",
      "Requirement already satisfied: smmap==5.0.2 in /home/codespace/.local/lib/python3.12/site-packages (from -r ../requirements2.txt (line 109)) (5.0.2)\n",
      "Requirement already satisfied: sniffio==1.3.1 in /home/codespace/.local/lib/python3.12/site-packages (from -r ../requirements2.txt (line 110)) (1.3.1)\n",
      "Requirement already satisfied: soupsieve==2.7 in /home/codespace/.local/lib/python3.12/site-packages (from -r ../requirements2.txt (line 111)) (2.7)\n",
      "Requirement already satisfied: stack-data==0.6.3 in /home/codespace/.local/lib/python3.12/site-packages (from -r ../requirements2.txt (line 112)) (0.6.3)\n",
      "Requirement already satisfied: sympy==1.13.3 in /home/codespace/.local/lib/python3.12/site-packages (from -r ../requirements2.txt (line 113)) (1.13.3)\n",
      "Requirement already satisfied: terminado==0.18.1 in /home/codespace/.local/lib/python3.12/site-packages (from -r ../requirements2.txt (line 114)) (0.18.1)\n",
      "Requirement already satisfied: threadpoolctl==3.6.0 in /home/codespace/.local/lib/python3.12/site-packages (from -r ../requirements2.txt (line 115)) (3.6.0)\n",
      "Requirement already satisfied: tinycss2==1.4.0 in /home/codespace/.local/lib/python3.12/site-packages (from -r ../requirements2.txt (line 116)) (1.4.0)\n",
      "Requirement already satisfied: torch==2.7.1+cpu in /home/codespace/.local/lib/python3.12/site-packages (from -r ../requirements2.txt (line 117)) (2.7.1+cpu)\n",
      "Requirement already satisfied: tornado==6.5.1 in /home/codespace/.local/lib/python3.12/site-packages (from -r ../requirements2.txt (line 118)) (6.5.1)\n",
      "Requirement already satisfied: traitlets==5.14.3 in /home/codespace/.local/lib/python3.12/site-packages (from -r ../requirements2.txt (line 119)) (5.14.3)\n",
      "Requirement already satisfied: types-python-dateutil==2.9.0.20250708 in /home/codespace/.local/lib/python3.12/site-packages (from -r ../requirements2.txt (line 120)) (2.9.0.20250708)\n",
      "Requirement already satisfied: typing_extensions==4.14.1 in /home/codespace/.local/lib/python3.12/site-packages (from -r ../requirements2.txt (line 121)) (4.14.1)\n",
      "Requirement already satisfied: tzdata==2025.2 in /home/codespace/.local/lib/python3.12/site-packages (from -r ../requirements2.txt (line 122)) (2025.2)\n",
      "Requirement already satisfied: uri-template==1.3.0 in /home/codespace/.local/lib/python3.12/site-packages (from -r ../requirements2.txt (line 123)) (1.3.0)\n",
      "Requirement already satisfied: urllib3==2.5.0 in /home/codespace/.local/lib/python3.12/site-packages (from -r ../requirements2.txt (line 124)) (2.5.0)\n",
      "Requirement already satisfied: wcwidth==0.2.13 in /home/codespace/.local/lib/python3.12/site-packages (from -r ../requirements2.txt (line 125)) (0.2.13)\n",
      "Requirement already satisfied: webcolors==24.11.1 in /home/codespace/.local/lib/python3.12/site-packages (from -r ../requirements2.txt (line 126)) (24.11.1)\n",
      "Requirement already satisfied: webencodings==0.5.1 in /home/codespace/.local/lib/python3.12/site-packages (from -r ../requirements2.txt (line 127)) (0.5.1)\n",
      "Requirement already satisfied: websocket-client==1.8.0 in /home/codespace/.local/lib/python3.12/site-packages (from -r ../requirements2.txt (line 128)) (1.8.0)\n",
      "Collecting xgboost==3.0.2 (from -r ../requirements2.txt (line 129))\n",
      "  Downloading xgboost-3.0.2-py3-none-manylinux_2_28_x86_64.whl.metadata (2.1 kB)\n",
      "Downloading dotenv-0.9.9-py2.py3-none-any.whl (1.9 kB)\n",
      "Downloading fredapi-0.5.2-py3-none-any.whl (11 kB)\n",
      "Downloading imbalanced_learn-0.13.0-py3-none-any.whl (238 kB)\n",
      "Downloading scikit_learn-1.6.1-cp312-cp312-manylinux_2_17_x86_64.manylinux2014_x86_64.whl (13.1 MB)\n",
      "\u001b[2K   \u001b[90m━━━━━━━━━━━━━━━━━━━━━━━━━━━━━━━━━━━━━━━━\u001b[0m \u001b[32m13.1/13.1 MB\u001b[0m \u001b[31m40.1 MB/s\u001b[0m eta \u001b[36m0:00:00\u001b[0m:00:01\u001b[0m\n",
      "\u001b[?25hDownloading sklearn_compat-0.1.3-py3-none-any.whl (18 kB)\n",
      "Downloading nvidia_nccl_cu12-2.27.6-py3-none-manylinux2014_x86_64.manylinux_2_17_x86_64.whl (322.5 MB)\n",
      "\u001b[2K   \u001b[90m━━━━━━━━━━━━━━━━━━━━━━━━━━━━━━━━━━━━━━━━\u001b[0m \u001b[32m322.5/322.5 MB\u001b[0m \u001b[31m44.9 MB/s\u001b[0m eta \u001b[36m0:00:00\u001b[0m00:01\u001b[0m00:01\u001b[0m\n",
      "\u001b[?25hDownloading python_dotenv-1.1.1-py3-none-any.whl (20 kB)\n",
      "Downloading xgboost-3.0.2-py3-none-manylinux_2_28_x86_64.whl (253.9 MB)\n",
      "\u001b[2K   \u001b[90m━━━━━━━━━━━━━━━━━━━━━━━━━━━━━━━━━━━━━━━━\u001b[0m \u001b[32m253.9/253.9 MB\u001b[0m \u001b[31m37.3 MB/s\u001b[0m eta \u001b[36m0:00:00\u001b[0m00:01\u001b[0m00:01\u001b[0m\n",
      "\u001b[?25hInstalling collected packages: python-dotenv, nvidia-nccl-cu12, xgboost, scikit-learn, dotenv, sklearn-compat, fredapi, imbalanced-learn\n",
      "\u001b[2K  Attempting uninstall: scikit-learnm━━━━━━━━━━━━━━━━━━━━━━━━━━━━━\u001b[0m \u001b[32m2/8\u001b[0m [xgboost]ccl-cu12]\n",
      "\u001b[2K    Found existing installation: scikit-learn 1.7.0━━━━━━━━━━━\u001b[0m \u001b[32m2/8\u001b[0m [xgboost]\n",
      "\u001b[2K    Uninstalling scikit-learn-1.7.0:m\u001b[90m━━━━━━━━━━━━━━━━━━━━━━━━\u001b[0m \u001b[32m3/8\u001b[0m [scikit-learn]\n",
      "\u001b[2K      Successfully uninstalled scikit-learn-1.7.0━━━━━━━━━━━━━\u001b[0m \u001b[32m3/8\u001b[0m [scikit-learn]\n",
      "\u001b[2K   \u001b[90m━━━━━━━━━━━━━━━━━━━━━━━━━━━━━━━━━━━━━━━━\u001b[0m \u001b[32m8/8\u001b[0m [imbalanced-learn][imbalanced-learn]\n",
      "\u001b[1A\u001b[2KSuccessfully installed dotenv-0.9.9 fredapi-0.5.2 imbalanced-learn-0.13.0 nvidia-nccl-cu12-2.27.6 python-dotenv-1.1.1 scikit-learn-1.6.1 sklearn-compat-0.1.3 xgboost-3.0.2\n",
      "\n",
      "\u001b[1m[\u001b[0m\u001b[34;49mnotice\u001b[0m\u001b[1;39;49m]\u001b[0m\u001b[39;49m A new release of pip is available: \u001b[0m\u001b[31;49m25.1.1\u001b[0m\u001b[39;49m -> \u001b[0m\u001b[32;49m25.2\u001b[0m\n",
      "\u001b[1m[\u001b[0m\u001b[34;49mnotice\u001b[0m\u001b[1;39;49m]\u001b[0m\u001b[39;49m To update, run: \u001b[0m\u001b[32;49mpython3 -m pip install --upgrade pip\u001b[0m\n"
     ]
    }
   ],
   "source": [
    "! pip install -r ../requirements2.txt\n",
    "#! pip install -r ../requirements1.txt\n",
    "#! pip install tensorflow"
   ]
  },
  {
   "cell_type": "code",
   "execution_count": 8,
   "id": "691f24d5",
   "metadata": {},
   "outputs": [
    {
     "data": {
      "text/plain": [
       "False"
      ]
     },
     "execution_count": 8,
     "metadata": {},
     "output_type": "execute_result"
    }
   ],
   "source": [
    "import os\n",
    "import sys\n",
    "import pandas as pd\n",
    "import numpy as np\n",
    "\n",
    "# For notebooks — get the current working directory\n",
    "notebook_dir = os.getcwd()\n",
    "project_dir = os.path.abspath(os.path.join(notebook_dir, '..'))\n",
    "sys.path.append(project_dir)\n",
    "\n",
    "# Then import your module\n",
    "import Utils.functions as data_viz\n",
    "import Utils.file_io as file_io\n",
    "\n",
    "from dotenv import load_dotenv\n",
    "load_dotenv()"
   ]
  },
  {
   "cell_type": "code",
   "execution_count": 5,
   "id": "188fdefe",
   "metadata": {},
   "outputs": [
    {
     "name": "stdout",
     "output_type": "stream",
     "text": [
      "/workspaces/RecessionPredictionML\n",
      "/workspaces/RecessionPredictionML/Notebooks/Dataset/data_raw\n"
     ]
    }
   ],
   "source": [
    "print(project_dir)\n",
    "print(f\"{project_dir}/Notebooks/Dataset/data_raw\")"
   ]
  },
  {
   "cell_type": "code",
   "execution_count": 6,
   "id": "4c39bdd6",
   "metadata": {},
   "outputs": [
    {
     "name": "stdout",
     "output_type": "stream",
     "text": [
      "DataFrame loaded from /workspaces/RecessionPredictionML/Notebooks/Dataset/data_raw.csv\n"
     ]
    },
    {
     "data": {
      "text/html": [
       "<div>\n",
       "<style scoped>\n",
       "    .dataframe tbody tr th:only-of-type {\n",
       "        vertical-align: middle;\n",
       "    }\n",
       "\n",
       "    .dataframe tbody tr th {\n",
       "        vertical-align: top;\n",
       "    }\n",
       "\n",
       "    .dataframe thead th {\n",
       "        text-align: right;\n",
       "    }\n",
       "</style>\n",
       "<table border=\"1\" class=\"dataframe\">\n",
       "  <thead>\n",
       "    <tr style=\"text-align: right;\">\n",
       "      <th></th>\n",
       "      <th>GS10</th>\n",
       "      <th>DGS2</th>\n",
       "      <th>DGS3MO</th>\n",
       "    </tr>\n",
       "  </thead>\n",
       "  <tbody>\n",
       "    <tr>\n",
       "      <th>1953-04-01</th>\n",
       "      <td>2.83</td>\n",
       "      <td>NaN</td>\n",
       "      <td>NaN</td>\n",
       "    </tr>\n",
       "    <tr>\n",
       "      <th>1953-05-01</th>\n",
       "      <td>3.05</td>\n",
       "      <td>NaN</td>\n",
       "      <td>NaN</td>\n",
       "    </tr>\n",
       "    <tr>\n",
       "      <th>1953-06-01</th>\n",
       "      <td>3.11</td>\n",
       "      <td>NaN</td>\n",
       "      <td>NaN</td>\n",
       "    </tr>\n",
       "    <tr>\n",
       "      <th>1953-07-01</th>\n",
       "      <td>2.93</td>\n",
       "      <td>NaN</td>\n",
       "      <td>NaN</td>\n",
       "    </tr>\n",
       "    <tr>\n",
       "      <th>1953-08-01</th>\n",
       "      <td>2.95</td>\n",
       "      <td>NaN</td>\n",
       "      <td>NaN</td>\n",
       "    </tr>\n",
       "    <tr>\n",
       "      <th>...</th>\n",
       "      <td>...</td>\n",
       "      <td>...</td>\n",
       "      <td>...</td>\n",
       "    </tr>\n",
       "    <tr>\n",
       "      <th>2025-07-11</th>\n",
       "      <td>NaN</td>\n",
       "      <td>3.90</td>\n",
       "      <td>4.41</td>\n",
       "    </tr>\n",
       "    <tr>\n",
       "      <th>2025-07-14</th>\n",
       "      <td>NaN</td>\n",
       "      <td>3.90</td>\n",
       "      <td>4.42</td>\n",
       "    </tr>\n",
       "    <tr>\n",
       "      <th>2025-07-15</th>\n",
       "      <td>NaN</td>\n",
       "      <td>3.95</td>\n",
       "      <td>4.42</td>\n",
       "    </tr>\n",
       "    <tr>\n",
       "      <th>2025-07-16</th>\n",
       "      <td>NaN</td>\n",
       "      <td>3.88</td>\n",
       "      <td>4.41</td>\n",
       "    </tr>\n",
       "    <tr>\n",
       "      <th>2025-07-17</th>\n",
       "      <td>NaN</td>\n",
       "      <td>3.91</td>\n",
       "      <td>4.41</td>\n",
       "    </tr>\n",
       "  </tbody>\n",
       "</table>\n",
       "<p>13264 rows × 3 columns</p>\n",
       "</div>"
      ],
      "text/plain": [
       "            GS10  DGS2  DGS3MO\n",
       "1953-04-01  2.83   NaN     NaN\n",
       "1953-05-01  3.05   NaN     NaN\n",
       "1953-06-01  3.11   NaN     NaN\n",
       "1953-07-01  2.93   NaN     NaN\n",
       "1953-08-01  2.95   NaN     NaN\n",
       "...          ...   ...     ...\n",
       "2025-07-11   NaN  3.90    4.41\n",
       "2025-07-14   NaN  3.90    4.42\n",
       "2025-07-15   NaN  3.95    4.42\n",
       "2025-07-16   NaN  3.88    4.41\n",
       "2025-07-17   NaN  3.91    4.41\n",
       "\n",
       "[13264 rows x 3 columns]"
      ]
     },
     "execution_count": 6,
     "metadata": {},
     "output_type": "execute_result"
    }
   ],
   "source": [
    "file_io.input_csv(f\"{project_dir}/Notebooks/Dataset/data_raw\")"
   ]
  },
  {
   "cell_type": "code",
   "execution_count": 7,
   "id": "1b13bcc2",
   "metadata": {},
   "outputs": [],
   "source": [
    "import imblearn"
   ]
  },
  {
   "cell_type": "code",
   "execution_count": 4,
   "id": "1a495771",
   "metadata": {},
   "outputs": [
    {
     "name": "stdout",
     "output_type": "stream",
     "text": [
      "DataFrame loaded from /workspaces/RecessionPredictionML/Dataset/recession_periods.csv\n"
     ]
    }
   ],
   "source": [
    "import os\n",
    "import sys\n",
    "import pandas as pd\n",
    "from dotenv import load_dotenv\n",
    "load_dotenv()\n",
    "import Utils.file_io as file_io\n",
    "\n",
    "notebook_dir = os.getcwd()\n",
    "project_dir = os.path.abspath(os.path.join(notebook_dir, '..'))\n",
    "sys.path.append(project_dir)\n",
    "load_dotenv(dotenv_path=os.path.join(project_dir, \"api.env\"))\n",
    "df_list_of_recessions = pd.read_csv(f\"{project_dir}/Dataset/recession_periods.csv\")\n",
    "recessions = file_io.input_csv(f\"{project_dir}/Dataset/recession_periods\")"
   ]
  },
  {
   "cell_type": "code",
   "execution_count": 5,
   "id": "b5ae48d7",
   "metadata": {},
   "outputs": [
    {
     "name": "stdout",
     "output_type": "stream",
     "text": [
      "          start           end    color         recession_label\n",
      "0  '1980-01-01'  '1980-07-31'  #6BAED6             'Oil Shock'\n",
      "1  '1981-07-01'  '1982-11-30'  #9E9AC8         'Volcker Shock'\n",
      "2  '1990-07-01'  '1991-03-31'  #BC80BD       'Oil Price Spike'\n",
      "3  '2001-03-01'  '2001-11-30'  #FB8072  'Dot-com Bubble Burst'\n",
      "4  '2007-12-01'  '2009-06-30'  #BEBADA      'Housing Collapse'\n",
      "5  '2020-02-01'  '2020-04-30'  #80B1D3     'COVID-19 Pandemic'\n",
      "                     end    color         recession_label\n",
      "start                                                    \n",
      "1980-01-01  '1980-07-31'  #6BAED6             'Oil Shock'\n",
      "1981-07-01  '1982-11-30'  #9E9AC8         'Volcker Shock'\n",
      "1990-07-01  '1991-03-31'  #BC80BD       'Oil Price Spike'\n",
      "2001-03-01  '2001-11-30'  #FB8072  'Dot-com Bubble Burst'\n",
      "2007-12-01  '2009-06-30'  #BEBADA      'Housing Collapse'\n",
      "2020-02-01  '2020-04-30'  #80B1D3     'COVID-19 Pandemic'\n"
     ]
    }
   ],
   "source": [
    "print(df_list_of_recessions)\n",
    "print(recessions)"
   ]
  },
  {
   "cell_type": "code",
   "execution_count": 7,
   "id": "5bdbcf94",
   "metadata": {},
   "outputs": [
    {
     "name": "stdout",
     "output_type": "stream",
     "text": [
      "Index(['start', 'end', 'color', 'recession_label'], dtype='object')\n"
     ]
    }
   ],
   "source": [
    "print(df_list_of_recessions.keys())"
   ]
  },
  {
   "cell_type": "code",
   "execution_count": 16,
   "id": "5969bc7f",
   "metadata": {},
   "outputs": [
    {
     "ename": "KeyError",
     "evalue": "'FRED_API_KEY'",
     "output_type": "error",
     "traceback": [
      "\u001b[31m---------------------------------------------------------------------------\u001b[39m",
      "\u001b[31mKeyError\u001b[39m                                  Traceback (most recent call last)",
      "\u001b[36mCell\u001b[39m\u001b[36m \u001b[39m\u001b[32mIn[16]\u001b[39m\u001b[32m, line 3\u001b[39m\n\u001b[32m      1\u001b[39m load_dotenv(dotenv_path=os.path.join(project_dir, \u001b[33m\"\u001b[39m\u001b[33mapi.env\u001b[39m\u001b[33m\"\u001b[39m))\n\u001b[32m      2\u001b[39m fred_api_key = os.getenv(\u001b[33m\"\u001b[39m\u001b[33mMY_API_KEY\u001b[39m\u001b[33m\"\u001b[39m) \n\u001b[32m----> \u001b[39m\u001b[32m3\u001b[39m fred_api_key1 = \u001b[43mos\u001b[49m\u001b[43m.\u001b[49m\u001b[43menviron\u001b[49m\u001b[43m[\u001b[49m\u001b[33;43m\"\u001b[39;49m\u001b[33;43mFRED_API_KEY\u001b[39;49m\u001b[33;43m\"\u001b[39;49m\u001b[43m]\u001b[49m\n\u001b[32m      4\u001b[39m \u001b[38;5;28mprint\u001b[39m(fred_api_key)\n\u001b[32m      5\u001b[39m \u001b[38;5;28mprint\u001b[39m(fred_api_key1)\n",
      "\u001b[36mFile \u001b[39m\u001b[32m<frozen os>:685\u001b[39m, in \u001b[36m__getitem__\u001b[39m\u001b[34m(self, key)\u001b[39m\n",
      "\u001b[31mKeyError\u001b[39m: 'FRED_API_KEY'"
     ]
    }
   ],
   "source": [
    "load_dotenv(dotenv_path=os.path.join(project_dir, \"api.env\"))\n",
    "fred_api_key = os.getenv(\"MY_API_KEY\") \n",
    "fred_api_key1 = os.environ[\"FRED_API_KEY\"]\n",
    "print(fred_api_key)\n",
    "print(fred_api_key1)"
   ]
  }
 ],
 "metadata": {
  "kernelspec": {
   "display_name": "Python 3",
   "language": "python",
   "name": "python3"
  },
  "language_info": {
   "codemirror_mode": {
    "name": "ipython",
    "version": 3
   },
   "file_extension": ".py",
   "mimetype": "text/x-python",
   "name": "python",
   "nbconvert_exporter": "python",
   "pygments_lexer": "ipython3",
   "version": "3.12.1"
  }
 },
 "nbformat": 4,
 "nbformat_minor": 5
}
