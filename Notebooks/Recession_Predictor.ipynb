{
 "cells": [
  {
   "cell_type": "code",
   "execution_count": null,
   "id": "21784118",
   "metadata": {},
   "outputs": [],
   "source": [
    "import os\n",
    "import sys\n",
    "import pandas as pd\n",
    "\n",
    "# For notebooks — get the current working directory\n",
    "notebook_dir = os.getcwd()\n",
    "parent_dir = os.path.abspath(os.path.join(notebook_dir, '..'))\n",
    "sys.path.append(parent_dir)\n",
    "\n",
    "# Then import your module\n",
    "import Utils.functions as data_viz\n",
    "import Utils.file_io as .. ........\n"
   ]
  },
  {
   "cell_type": "markdown",
   "id": "6a0df2e9",
   "metadata": {},
   "source": [
    "# Script to Retrieve data from FRED"
   ]
  },
  {
   "cell_type": "code",
   "execution_count": null,
   "id": "052dc8df",
   "metadata": {},
   "outputs": [
    {
     "name": "stdout",
     "output_type": "stream",
     "text": [
      "/workspaces/RecessionPredictionML/Notebooks\n"
     ]
    }
   ],
   "source": [
    "series_codes = {\n",
    "    'GS10': '10-Year Yield',\n",
    "    'DGS2': '2-Year Yield',\n",
    "    'DGS3MO': '3-Month Yield',\n",
    "    'UNRATE': 'UnemploymentRate'\n",
    "}\n",
    "\n",
    "##! python3 Dataset/get_data.py\n",
    "\n",
    "df_raw = df = file_ioget_fred_data(series_codes)\n"
   ]
  },
  {
   "cell_type": "markdown",
   "id": "e8e63088",
   "metadata": {},
   "source": [
    "# Data Exploration"
   ]
  },
  {
   "cell_type": "code",
   "execution_count": null,
   "id": "8cd9acd0",
   "metadata": {},
   "outputs": [],
   "source": [
    "# Check for missing data\n",
    "print(f\"Number of Entries: {len(df_raw)}\")\n",
    "\n",
    "for key, item in df_raw.isnull().sum().items():\n",
    "    percent_missing = 100 * item / len(df_raw)\n",
    "    print(f\"Missing entries in {series_codes[key]}: \\t {item} \\t {percent_missing:.2f}%\")\n",
    "\n",
    "data_viz.vis_missing_data(df_raw)"
   ]
  },
  {
   "cell_type": "code",
   "execution_count": null,
   "id": "8a004932",
   "metadata": {},
   "outputs": [],
   "source": [
    "! python3 Dataset/features_maker.py "
   ]
  },
  {
   "cell_type": "code",
   "execution_count": 1,
   "id": "37f1992e",
   "metadata": {},
   "outputs": [
    {
     "name": "stdout",
     "output_type": "stream",
     "text": [
      "test\n"
     ]
    }
   ],
   "source": [
    "print('test')"
   ]
  }
 ],
 "metadata": {
  "kernelspec": {
   "display_name": "Python 3",
   "language": "python",
   "name": "python3"
  },
  "language_info": {
   "codemirror_mode": {
    "name": "ipython",
    "version": 3
   },
   "file_extension": ".py",
   "mimetype": "text/x-python",
   "name": "python",
   "nbconvert_exporter": "python",
   "pygments_lexer": "ipython3",
   "version": "3.12.1"
  }
 },
 "nbformat": 4,
 "nbformat_minor": 5
}
